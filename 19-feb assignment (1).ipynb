{
 "cells": [
  {
   "cell_type": "code",
   "execution_count": null,
   "id": "b71f0ea3-47bf-4429-ada0-998db07b9e59",
   "metadata": {},
   "outputs": [],
   "source": [
    "Ans = 1\n",
    "Flask is a micro web framework written in Python that allows developers to build web applications quickly\n",
    "and easily. It is lightweight, modular, and easy to learn, making it a popular choice for small to medium-sized\n",
    "projects.\n",
    "\n",
    "Some of the advantages of Flask include:\n",
    "\n",
    "1.\n",
    "Lightweight: Flask is a minimalist framework, which means it only includes the bare essentials needed to build \n",
    "a web application. This makes it easy to learn and use, and also means that it is fast and efficient.\n",
    "\n",
    "2.\n",
    "Flexible: Flask is very flexible and allows developers to choose the tools and libraries they want to use.\n",
    "This means that developers can create custom solutions that meet their specific needs.\n",
    "\n",
    "3.\n",
    "Easy to learn: Flask is a simple framework that has a small codebase, making it easy to learn and understand.\n",
    "This is great for developers who are new to web development and want to get started quickly.\n",
    "\n",
    "4.\n",
    "Modular: Flask is built around the concept of modular components, which means that developers can add or\n",
    "remove features as needed. This makes it easy to scale up or down a web application as needed.\n",
    "\n",
    "5.\n",
    "Large ecosystem: Flask has a large ecosystem of plugins and extensions that can be used to extend its \n",
    "functionality. This means that developers can easily add new features to their applications without \n",
    "having to write everything from scratch."
   ]
  },
  {
   "cell_type": "code",
   "execution_count": null,
   "id": "ec39a4d9-1a73-45f5-beab-ee8cb12ab945",
   "metadata": {},
   "outputs": [],
   "source": [
    "Ans = 2\n",
    "from flask import Flask\n",
    "\n",
    "app = Flask(__name__)\n",
    "\n",
    "@app.route('/')\n",
    "def hello():\n",
    "    return 'Hello World!!'\n",
    "\n",
    "if __name__ == '__main__':\n",
    "    app.run(debug=True)\n"
   ]
  },
  {
   "cell_type": "code",
   "execution_count": null,
   "id": "03bd0922-8c47-47d3-b5a6-f3508d9c4fbf",
   "metadata": {},
   "outputs": [],
   "source": [
    "Ans = 3\n",
    "In Flask, app routing is typically done using the @app.route() decorator. This decorator allows you to define\n",
    "a URL route and associate it with a Python function that will handle requests to that URL. For example, \n",
    "the following code defines a route for the URL /hello:\n",
    "    \n",
    "ex:\n",
    "    @app.route('/hello')\n",
    "def hello():\n",
    "    return 'Hello, World!'\n"
   ]
  },
  {
   "cell_type": "code",
   "execution_count": null,
   "id": "416119e0-8294-4ec9-88d6-823970dea4c1",
   "metadata": {},
   "outputs": [],
   "source": [
    "Ans = 4\n",
    "from flask import Flask\n",
    "\n",
    "app = Flask(__name__)\n",
    "\n",
    "@app.route('/welcome')\n",
    "def welcome():\n",
    "    return 'Welcome to ABC Corporation'\n",
    "\n",
    "@app.route('/')\n",
    "def company_details():\n",
    "    return 'Company Name: ABC Corporation<br>Location: India<br>Contact Detail: 999-999-9999'\n",
    "\n",
    "if __name__ == '__main__':\n",
    "    app.run(debug=True)\n"
   ]
  },
  {
   "cell_type": "code",
   "execution_count": null,
   "id": "b9a8a912-696b-42f2-8ea8-2b434d3eec8d",
   "metadata": {},
   "outputs": [],
   "source": [
    "Ans = 5\n",
    "from flask import Flask, url_for\n",
    "\n",
    "app = Flask(__name__)\n",
    "\n",
    "@app.route('/')\n",
    "def home():\n",
    "    return 'This is the home page.'\n",
    "\n",
    "@app.route('/about')\n",
    "def about():\n",
    "    return 'This is the about page.'\n",
    "\n",
    "@app.route('/contact')\n",
    "def contact():\n",
    "    return 'This is the contact page.'\n",
    "\n",
    "@app.route('/link')\n",
    "def link():\n",
    "    home_url = url_for('home')\n",
    "    about_url = url_for('about')\n",
    "    contact_url = url_for('contact')\n",
    "    return f'<a href=\"{home_url}\">Home</a><br><a href=\"{about_url}\">About</a><br><a href=\"{contact_url}\">Contact</a>'\n",
    "\n",
    "if __name__ == '__main__':\n",
    "    app.run(debug=True)\n"
   ]
  }
 ],
 "metadata": {
  "kernelspec": {
   "display_name": "Python 3 (ipykernel)",
   "language": "python",
   "name": "python3"
  },
  "language_info": {
   "codemirror_mode": {
    "name": "ipython",
    "version": 3
   },
   "file_extension": ".py",
   "mimetype": "text/x-python",
   "name": "python",
   "nbconvert_exporter": "python",
   "pygments_lexer": "ipython3",
   "version": "3.10.8"
  }
 },
 "nbformat": 4,
 "nbformat_minor": 5
}
